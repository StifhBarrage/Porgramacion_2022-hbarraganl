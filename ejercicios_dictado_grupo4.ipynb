{
  "nbformat": 4,
  "nbformat_minor": 0,
  "metadata": {
    "colab": {
      "name": "ejercicios_dictado_grupo4.ipynb",
      "provenance": []
    },
    "kernelspec": {
      "name": "python3",
      "display_name": "Python 3"
    },
    "language_info": {
      "name": "python"
    }
  },
  "cells": [
    {
      "cell_type": "markdown",
      "source": [
        "1)"
      ],
      "metadata": {
        "id": "rwFEyNznVG-b"
      }
    },
    {
      "cell_type": "code",
      "execution_count": 8,
      "metadata": {
        "colab": {
          "base_uri": "https://localhost:8080/"
        },
        "id": "U3GJYokMPbCw",
        "outputId": "bd725fa6-c20a-47f5-a8f9-a669cf63b34f"
      },
      "outputs": [
        {
          "output_type": "stream",
          "name": "stdout",
          "text": [
            "escribe tu nombre: stifh\n",
            "escribe tu edad: 12\n",
            "escribe tu dirección: av carrera 68 #5 - 17\n",
            "escribe tu teléfono: 3213457323\n",
            "stifh tiene 12 años, vive en av carrera 68 #5 - 17 y su número de teléfono es 3213457323\n"
          ]
        }
      ],
      "source": [
        "nombre = str(input('escribe tu nombre: '))\n",
        "edad = int(input('escribe tu edad: '))\n",
        "direccion = str(input('escribe tu dirección: ')) \n",
        "telefono = int(input('escribe tu teléfono: '))\n",
        "dicc = {'nombre':nombre, 'edad': edad, 'direccion': direccion, 'telefono': telefono}\n",
        "print(f\"{dicc['nombre']} tiene {dicc['edad']} años, vive en {dicc['direccion']} y su número de teléfono es {dicc['telefono']}\")\n"
      ]
    },
    {
      "cell_type": "markdown",
      "source": [
        "2)"
      ],
      "metadata": {
        "id": "1tRiOMF1VLND"
      }
    },
    {
      "cell_type": "code",
      "source": [
        "fecha_act = str(input('fecha de actual (separe con \"/\"): ')).split('/')\n",
        "fecha_nac = str(input('fecha de nacimiento (separe con \"/\"): ')).split('/')\n",
        "\n",
        "\n",
        "dicc = {'dia': [fecha_act[0],fecha_nac[0]],'mes': [fecha_act[1],fecha_nac[1]],'agno': [fecha_act[2],fecha_nac[2]]}\n",
        "d_mes = {1:'enero', 2:'febrero', 3:'marzo', 4:'abril', 5:'mayo', 6:'junio', 7:'julio', 8:'agosto', 9:'septiembre', 10:'octubre', 11:'noviembre', 12:'diciembre'}\n",
        "\n",
        "def diasHastaFecha(day1, month1, year1, day2, month2, year2):\n",
        "    \n",
        "    # Función para calcular si un año es bisiesto o no\n",
        "    \n",
        "    def esBisiesto(year):\n",
        "        return year % 4 == 0 and year % 100 != 0 or year % 400 == 0\n",
        "    \n",
        "    # Caso de años diferentes\n",
        "    \n",
        "    if (year1<year2):\n",
        "        \n",
        "        # Días restante primer año\n",
        "        \n",
        "        if esBisiesto(year1) == False:\n",
        "            diasMes = [0, 31, 28, 31, 30, 31, 30, 31, 31, 30, 31, 30, 31]\n",
        "        else:\n",
        "            diasMes = [0, 31, 29, 31, 30, 31, 30, 31, 31, 30, 31, 30, 31]\n",
        "     \n",
        "        restoMes = diasMes[month1] - day1\n",
        "    \n",
        "        restoYear = 0\n",
        "        i = month1 + 1\n",
        "    \n",
        "        while i <= 12:\n",
        "            restoYear = restoYear + diasMes[i]\n",
        "            i = i + 1\n",
        "    \n",
        "        primerYear = restoMes + restoYear\n",
        "    \n",
        "        # Suma de días de los años que hay en medio\n",
        "    \n",
        "        sumYear = year1 + 1\n",
        "        totalDias = 0\n",
        "    \n",
        "        while (sumYear<year2):\n",
        "            if esBisiesto(sumYear) == False:\n",
        "                totalDias = totalDias + 365\n",
        "                sumYear = sumYear + 1\n",
        "            else:\n",
        "                totalDias = totalDias + 366\n",
        "                sumYear = sumYear + 1\n",
        "    \n",
        "        # Dias año actual\n",
        "    \n",
        "        if esBisiesto(year2) == False:\n",
        "            diasMes = [0, 31, 28, 31, 30, 31, 30, 31, 31, 30, 31, 30, 31]\n",
        "        else:\n",
        "            diasMes = [0, 31, 29, 31, 30, 31, 30, 31, 31, 30, 31, 30, 31]\n",
        "    \n",
        "        llevaYear = 0\n",
        "        lastYear = 0\n",
        "        i = 1\n",
        "    \n",
        "        while i < month2:\n",
        "            llevaYear = llevaYear + diasMes[i]\n",
        "            i = i + 1\n",
        "    \n",
        "        lastYear = day2 + llevaYear\n",
        "    \n",
        "        return totalDias + primerYear + lastYear\n",
        "    \n",
        "    # Si estamos en el mismo año\n",
        "    \n",
        "    else:\n",
        "        \n",
        "        if esBisiesto(year1) == False:\n",
        "            diasMes = [0, 31, 28, 31, 30, 31, 30, 31, 31, 30, 31, 30, 31]\n",
        "        else:\n",
        "            diasMes = [0, 31, 29, 31, 30, 31, 30, 31, 31, 30, 31, 30, 31]\n",
        "    \n",
        "        llevaYear = 0\n",
        "        total = 0\n",
        "        i = month1\n",
        "        \n",
        "        if i < month2:\n",
        "            while i < month2:\n",
        "                llevaYear = llevaYear + diasMes[i]\n",
        "                i = i + 1\n",
        "            total = day2 + llevaYear - 1\n",
        "            return total \n",
        "        else:\n",
        "            total = day2 - day1\n",
        "            return total\n",
        "\n",
        "print(f\"hoy es {dicc['dia'][0]} de {d_mes[int(dicc['mes'][0])]} de \\\n",
        "{dicc['agno'][0]}, y sus días de vida son \\\n",
        "{diasHastaFecha(int(dicc['dia'][1]), int(dicc['mes'][1]), int(dicc['agno'][1]), int(dicc['dia'][0]), int(dicc['mes'][0]), int(dicc['agno'][0]))}\")\n",
        "\n"
      ],
      "metadata": {
        "colab": {
          "base_uri": "https://localhost:8080/"
        },
        "id": "LvP21IyTVAa1",
        "outputId": "4ba2c08b-166b-44c5-c99a-a202d4abb862"
      },
      "execution_count": 22,
      "outputs": [
        {
          "output_type": "stream",
          "name": "stdout",
          "text": [
            "fecha de actual (separe con \"/\"): 12/6/2022\n",
            "fecha de nacimiento (separe con \"/\"): 15/5/2001\n",
            "hoy es 12 de junio de 2022, y sus días de vida son 7698\n"
          ]
        }
      ]
    },
    {
      "cell_type": "markdown",
      "source": [
        "3)"
      ],
      "metadata": {
        "id": "IiQ4MUjHoQkp"
      }
    },
    {
      "cell_type": "code",
      "source": [
        "activado = True\n",
        "contador = 0\n",
        "dicc = {}\n",
        "while activado:\n",
        "  dicc[contador] = {'dato1':str(input('dato 1: ')),'dato2':str(input('dato2: ')), 'dato3':str(input('dato3: '))}\n",
        "\n",
        "\n",
        "  if contador >= 1:\n",
        "    ask = input('desea agregar otro usuario? (si o no): ')\n",
        "    if ask == 'no':\n",
        "      activado = False\n",
        "  contador += 1\n",
        "print(dicc[max(dicc)])\n",
        "print(dicc[min(dicc)])\n",
        "  \n"
      ],
      "metadata": {
        "colab": {
          "base_uri": "https://localhost:8080/"
        },
        "id": "PMJ0oXBdoTrV",
        "outputId": "bb9184ba-fbfc-4a64-dc53-50a3bb5afbdf"
      },
      "execution_count": 39,
      "outputs": [
        {
          "output_type": "stream",
          "name": "stdout",
          "text": [
            "dato 1: holasd\n",
            "dato2: sdfsdg\n",
            "dato3: sagdf\n",
            "dato 1: ag\n",
            "dato2: asdf\n",
            "dato3: qrt\n",
            "desea agregar otro usuario? (si o no): si\n",
            "dato 1: asdg\n",
            "dato2: qwetqw\n",
            "dato3: gdadg\n",
            "desea agregar otro usuario? (si o no): f\n",
            "dato 1: sgfh\n",
            "dato2: ert\n",
            "dato3: y\n",
            "desea agregar otro usuario? (si o no): dg\n",
            "dato 1: hfdh\n",
            "dato2: wertwe\n",
            "dato3: dhdf\n",
            "desea agregar otro usuario? (si o no): no\n",
            "{'dato1': 'hfdh', 'dato2': 'wertwe', 'dato3': 'dhdf'}\n",
            "{'dato1': 'holasd', 'dato2': 'sdfsdg', 'dato3': 'sagdf'}\n"
          ]
        }
      ]
    }
  ]
}